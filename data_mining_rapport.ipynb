{
 "cells": [
  {
   "cell_type": "markdown",
   "metadata": {},
   "source": [
    "# Projet DATA MINING"
   ]
  },
  {
   "cell_type": "markdown",
   "metadata": {},
   "source": [
    "## Introduction"
   ]
  },
  {
   "cell_type": "markdown",
   "metadata": {},
   "source": [
    "L'abondant des postes est un problème pour les entreprises qui peut s'avérer être très couteux. C'est pourquoi il est stratégique aux entreprises de comprendre pourquoi et quand les employés sont susceptibles de quitter leur poste. Notre but à partir de ce TP est de pouvoir prévoir pourquoi et quand les employés vont quitter."
   ]
  },
  {
   "cell_type": "markdown",
   "metadata": {},
   "source": [
    "## Les données:"
   ]
  },
  {
   "cell_type": "markdown",
   "metadata": {},
   "source": [
    "Nous avons à disposition pour cette fin les données sur tout les employés qui ont joint l'entreprise entre le *24/01/2011* et *13/12/2015*. Nous savons aussi pour chaque employé s'il est toujours dans l'entreprise à la date du *13/12/2015* (ou s'il a démissioné). Nous avons aussi des informations générales sur l'employée, telles que le salaire moyen pendant son mandat, son département et ses années d'expérience.\n",
    "\n",
    "Notre tableau de donnée à la structure suivante:\n",
    "\n",
    "employee | company | dept | seniority | salary | join_date | quit_date | churn | duration_days |\n",
    ":------- | :------- | :------- | :------- | :------- | :------- | :------- | :------- | :------- |\n",
    "id de l'employé unique par employé par entreprise | id de l'entreprise | département des employés |  nombre d'années d'expérience de travail au moment de l'embauche | salaire annuel moyen du salarié pendant son mandat au sein de l'entreprise|  lorsque l'employé a rejoint l'entreprise, cela ne peut se faire qu'entre le 24/01/2011 et le 13/12/2015 | date à laquelle l'employé a quitté son emploi (si il est toujours employé au 13/12/2015, ce champ est NA) | yes si l'employé a quitté son emploi, No au cas où il est toujours dans l’entreprise | durée en jours entre join_date et quit_date "
   ]
  },
  {
   "cell_type": "markdown",
   "metadata": {},
   "source": [
    "# A-\tPrétraitement des données "
   ]
  },
  {
   "cell_type": "markdown",
   "metadata": {},
   "source": [
    "Avant de procéder à l'analyse de ces données, il faut d'abord procéder à un prétraitement, en :\n",
    "1. \tUniformisant les titres de colonnes en des noms minuscules \n",
    "2.\tVérifiant les types de données des colonnes\n",
    "3.\tTransformant join_date et quit_date en des dates\n",
    "4.\tEliminant les valeurs manquantes pour l’attribue « salary »\n",
    "5.\tChangeant le type de l’attribue « salary » à float\n"
   ]
  },
  {
   "cell_type": "markdown",
   "metadata": {},
   "source": [
    "Tout d'abord, importons nos  données sur les employés d'une entreprise.\n",
    "\n",
    "*Nous réaliserons l'analyse et le traitement de ces données avec la bibliothèque pandas sur Python*"
   ]
  },
  {
   "cell_type": "code",
   "execution_count": 17,
   "metadata": {},
   "outputs": [
    {
     "data": {
      "text/html": [
       "<div>\n",
       "<style scoped>\n",
       "    .dataframe tbody tr th:only-of-type {\n",
       "        vertical-align: middle;\n",
       "    }\n",
       "\n",
       "    .dataframe tbody tr th {\n",
       "        vertical-align: top;\n",
       "    }\n",
       "\n",
       "    .dataframe thead th {\n",
       "        text-align: right;\n",
       "    }\n",
       "</style>\n",
       "<table border=\"1\" class=\"dataframe\">\n",
       "  <thead>\n",
       "    <tr style=\"text-align: right;\">\n",
       "      <th></th>\n",
       "      <th>employee_id</th>\n",
       "      <th>company_id</th>\n",
       "      <th>dept</th>\n",
       "      <th>seniority</th>\n",
       "      <th>SALARY</th>\n",
       "      <th>join_date</th>\n",
       "      <th>quit_date</th>\n",
       "      <th>churn</th>\n",
       "      <th>duration_jours</th>\n",
       "    </tr>\n",
       "  </thead>\n",
       "  <tbody>\n",
       "    <tr>\n",
       "      <td>0</td>\n",
       "      <td>13021.0</td>\n",
       "      <td>7</td>\n",
       "      <td>customer_service</td>\n",
       "      <td>28</td>\n",
       "      <td>89000.0</td>\n",
       "      <td>2014-03-24</td>\n",
       "      <td>2015-10-30</td>\n",
       "      <td>yes</td>\n",
       "      <td>585.0</td>\n",
       "    </tr>\n",
       "    <tr>\n",
       "      <td>1</td>\n",
       "      <td>825355.0</td>\n",
       "      <td>7</td>\n",
       "      <td>marketing</td>\n",
       "      <td>20</td>\n",
       "      <td>183000.0</td>\n",
       "      <td>2013-04-29</td>\n",
       "      <td>2014-04-04</td>\n",
       "      <td>yes</td>\n",
       "      <td>340.0</td>\n",
       "    </tr>\n",
       "    <tr>\n",
       "      <td>2</td>\n",
       "      <td>927315.0</td>\n",
       "      <td>4</td>\n",
       "      <td>marketing</td>\n",
       "      <td>14</td>\n",
       "      <td>101000.0</td>\n",
       "      <td>2014-10-13</td>\n",
       "      <td>NaN</td>\n",
       "      <td>No</td>\n",
       "      <td>NaN</td>\n",
       "    </tr>\n",
       "    <tr>\n",
       "      <td>3</td>\n",
       "      <td>662910.0</td>\n",
       "      <td>7</td>\n",
       "      <td>customer_service</td>\n",
       "      <td>20</td>\n",
       "      <td>115000.0</td>\n",
       "      <td>2012-05-14</td>\n",
       "      <td>2013-06-07</td>\n",
       "      <td>yes</td>\n",
       "      <td>389.0</td>\n",
       "    </tr>\n",
       "    <tr>\n",
       "      <td>4</td>\n",
       "      <td>256971.0</td>\n",
       "      <td>2</td>\n",
       "      <td>data_science</td>\n",
       "      <td>23</td>\n",
       "      <td>276000.0</td>\n",
       "      <td>2011-10-17</td>\n",
       "      <td>2014-08-22</td>\n",
       "      <td>yes</td>\n",
       "      <td>1040.0</td>\n",
       "    </tr>\n",
       "  </tbody>\n",
       "</table>\n",
       "</div>"
      ],
      "text/plain": [
       "   employee_id  company_id              dept  seniority    SALARY   join_date  \\\n",
       "0      13021.0           7  customer_service         28   89000.0  2014-03-24   \n",
       "1     825355.0           7         marketing         20  183000.0  2013-04-29   \n",
       "2     927315.0           4         marketing         14  101000.0  2014-10-13   \n",
       "3     662910.0           7  customer_service         20  115000.0  2012-05-14   \n",
       "4     256971.0           2      data_science         23  276000.0  2011-10-17   \n",
       "\n",
       "    quit_date churn  duration_jours  \n",
       "0  2015-10-30   yes           585.0  \n",
       "1  2014-04-04   yes           340.0  \n",
       "2         NaN    No             NaN  \n",
       "3  2013-06-07   yes           389.0  \n",
       "4  2014-08-22   yes          1040.0  "
      ]
     },
     "execution_count": 17,
     "metadata": {},
     "output_type": "execute_result"
    }
   ],
   "source": [
    "#On importe la bibliothèque pandas\n",
    "import pandas as pd \n",
    "# On importe aussi a bibliothèque matplotlib.pyplot qui peut être la visualisation des données.\n",
    "import matplotlib.pyplot as plt \n",
    "df = pd.read_csv('C:/Users/jebba/Desktop/employee_retention_data.csv',sep=',')#on peut ajouter le séparateur\n",
    "#lire les  premières lignes\n",
    "df.head() "
   ]
  },
  {
   "cell_type": "markdown",
   "metadata": {},
   "source": [
    "## 1. Mettre le nom des colonnes en minuscule "
   ]
  },
  {
   "cell_type": "markdown",
   "metadata": {},
   "source": [
    "Comme évoqué précedemment, la première étape est de mettre le nom de nos colonnes en misuscule.\n",
    "pour cela, nous allons utiliser la commande `df.rename` de pandas."
   ]
  },
  {
   "cell_type": "code",
   "execution_count": 18,
   "metadata": {},
   "outputs": [
    {
     "data": {
      "text/plain": [
       "Index(['employee_id', 'company_id', 'dept', 'seniority', 'salary', 'join_date',\n",
       "       'quit_date', 'churn', 'duration_jours'],\n",
       "      dtype='object')"
      ]
     },
     "execution_count": 18,
     "metadata": {},
     "output_type": "execute_result"
    }
   ],
   "source": [
    "#On Stocke le nom de nos colonnes\n",
    "columns_values = df.columns.values\n",
    "#On crée un dictionnaire ou la clé est le nom de la colonne et sa valeur son nouveau nom (en minuscule) \n",
    "dico_rename_column = dict()\n",
    "list_rename_columns =  [ {column: column.lower()} for column in columns_values ] \n",
    "for values in list_rename_columns:\n",
    "    dico_rename_column.update(values)\n",
    "#On renomme les colonnes de notre tableau avec la methode rename \n",
    "df.rename(columns=dico_rename_column,inplace=True)\n",
    "#Nos nouvelles colonnes sont en minuscules\n",
    "df.columns"
   ]
  },
  {
   "cell_type": "markdown",
   "metadata": {},
   "source": [
    "##\tVérifier les types de données des colonnes"
   ]
  },
  {
   "cell_type": "markdown",
   "metadata": {},
   "source": [
    "Vérifions le type de nos données pour vérifier que leurs types soientt bien choisis pour une éventuelle analyse. \n",
    "\n",
    "Pour celà nous utilisons la méthode `dtype` de l'objet *DataFrame*"
   ]
  },
  {
   "cell_type": "code",
   "execution_count": 19,
   "metadata": {
    "scrolled": true
   },
   "outputs": [
    {
     "data": {
      "text/plain": [
       "employee_id       float64\n",
       "company_id          int64\n",
       "dept               object\n",
       "seniority           int64\n",
       "salary            float64\n",
       "join_date          object\n",
       "quit_date          object\n",
       "churn              object\n",
       "duration_jours    float64\n",
       "dtype: object"
      ]
     },
     "execution_count": 19,
     "metadata": {},
     "output_type": "execute_result"
    }
   ],
   "source": [
    "df.dtypes"
   ]
  },
  {
   "cell_type": "markdown",
   "metadata": {},
   "source": [
    "Nous remarquons que `join_date` et `quit_date` sont de type Objet. Il serait profitable que leurs types soit de type **DateTime**."
   ]
  },
  {
   "cell_type": "markdown",
   "metadata": {},
   "source": [
    "##\tChanger le type des colonnes *join_date* et *quit_date* en type de date"
   ]
  },
  {
   "cell_type": "markdown",
   "metadata": {},
   "source": [
    "Pour changer le type des colonnes, on peut utiliser la méthode `to_datetime` en spécifiant le format des dates comme suit:"
   ]
  },
  {
   "cell_type": "code",
   "execution_count": 20,
   "metadata": {},
   "outputs": [
    {
     "data": {
      "text/html": [
       "<div>\n",
       "<style scoped>\n",
       "    .dataframe tbody tr th:only-of-type {\n",
       "        vertical-align: middle;\n",
       "    }\n",
       "\n",
       "    .dataframe tbody tr th {\n",
       "        vertical-align: top;\n",
       "    }\n",
       "\n",
       "    .dataframe thead th {\n",
       "        text-align: right;\n",
       "    }\n",
       "</style>\n",
       "<table border=\"1\" class=\"dataframe\">\n",
       "  <thead>\n",
       "    <tr style=\"text-align: right;\">\n",
       "      <th></th>\n",
       "      <th>join_date</th>\n",
       "      <th>quit_date</th>\n",
       "    </tr>\n",
       "  </thead>\n",
       "  <tbody>\n",
       "    <tr>\n",
       "      <td>0</td>\n",
       "      <td>2014-03-24</td>\n",
       "      <td>2014-03-24</td>\n",
       "    </tr>\n",
       "    <tr>\n",
       "      <td>1</td>\n",
       "      <td>2013-04-29</td>\n",
       "      <td>2013-04-29</td>\n",
       "    </tr>\n",
       "    <tr>\n",
       "      <td>2</td>\n",
       "      <td>2014-10-13</td>\n",
       "      <td>2014-10-13</td>\n",
       "    </tr>\n",
       "    <tr>\n",
       "      <td>3</td>\n",
       "      <td>2012-05-14</td>\n",
       "      <td>2012-05-14</td>\n",
       "    </tr>\n",
       "    <tr>\n",
       "      <td>4</td>\n",
       "      <td>2011-10-17</td>\n",
       "      <td>2011-10-17</td>\n",
       "    </tr>\n",
       "  </tbody>\n",
       "</table>\n",
       "</div>"
      ],
      "text/plain": [
       "   join_date  quit_date\n",
       "0 2014-03-24 2014-03-24\n",
       "1 2013-04-29 2013-04-29\n",
       "2 2014-10-13 2014-10-13\n",
       "3 2012-05-14 2012-05-14\n",
       "4 2011-10-17 2011-10-17"
      ]
     },
     "execution_count": 20,
     "metadata": {},
     "output_type": "execute_result"
    }
   ],
   "source": [
    "# Conversion du type des colonnes\n",
    "df[\"join_date\"]=pd.to_datetime(df[\"join_date\"],format='%Y-%m-%d')\n",
    "df[\"quit_date\"]=pd.to_datetime(df[\"join_date\"],format='%Y-%m-%d')\n",
    "#Affichage du contenu de join_date et quit_date\n",
    "df[[\"join_date\",\"quit_date\"]].head()"
   ]
  },
  {
   "cell_type": "markdown",
   "metadata": {},
   "source": [
    "Ensuite on procède à la vérification du changement:"
   ]
  },
  {
   "cell_type": "code",
   "execution_count": 21,
   "metadata": {
    "scrolled": true
   },
   "outputs": [
    {
     "data": {
      "text/plain": [
       "employee_id              float64\n",
       "company_id                 int64\n",
       "dept                      object\n",
       "seniority                  int64\n",
       "salary                   float64\n",
       "join_date         datetime64[ns]\n",
       "quit_date         datetime64[ns]\n",
       "churn                     object\n",
       "duration_jours           float64\n",
       "dtype: object"
      ]
     },
     "execution_count": 21,
     "metadata": {},
     "output_type": "execute_result"
    }
   ],
   "source": [
    "df.dtypes"
   ]
  },
  {
   "cell_type": "markdown",
   "metadata": {},
   "source": [
    "Cela fait, on va maintenant retirer les salariés dont la valeur des salaire est manquante"
   ]
  },
  {
   "cell_type": "markdown",
   "metadata": {},
   "source": [
    "## Eliminer les valeurs manquantes pour l’attribut salary "
   ]
  },
  {
   "cell_type": "markdown",
   "metadata": {},
   "source": [
    "Tout d'abord, on vérifie bien qu'il existe des valeurs manquantes. On peut utiliser la méthode `isna` de numpy et ensuite la méthode `unique` pour énumérer les valeurs distinctes (éventuellement True et False):"
   ]
  },
  {
   "cell_type": "code",
   "execution_count": 22,
   "metadata": {
    "scrolled": true
   },
   "outputs": [
    {
     "data": {
      "text/plain": [
       "array([False,  True])"
      ]
     },
     "execution_count": 22,
     "metadata": {},
     "output_type": "execute_result"
    }
   ],
   "source": [
    "df['salary'].isna().unique()"
   ]
  },
  {
   "cell_type": "markdown",
   "metadata": {},
   "source": [
    "Alors la présence du *Boolean* `True` montre qu'il existe des valeurs manquantes.\n",
    "\n",
    "Procédons maintenant à la suppression de ces valeurs manquantes, pour cela on utilise ma méthode `dropna` comme suit:"
   ]
  },
  {
   "cell_type": "code",
   "execution_count": 23,
   "metadata": {
    "scrolled": true
   },
   "outputs": [],
   "source": [
    "df.dropna(subset=['salary'],axis=0, inplace=True)"
   ]
  },
  {
   "cell_type": "markdown",
   "metadata": {},
   "source": [
    "On vérifie qu'il n'y a plus de valeurs manquantes:"
   ]
  },
  {
   "cell_type": "code",
   "execution_count": 24,
   "metadata": {
    "scrolled": false
   },
   "outputs": [
    {
     "data": {
      "text/plain": [
       "array([False])"
      ]
     },
     "execution_count": 24,
     "metadata": {},
     "output_type": "execute_result"
    }
   ],
   "source": [
    "df['salary'].isna().unique()"
   ]
  },
  {
   "cell_type": "markdown",
   "metadata": {},
   "source": [
    "Etant donner que dans nos données, nous n'avons plus de valeurs manquantes pour la colonne **salary**, nous allons plutot la convertir en type **float**"
   ]
  },
  {
   "cell_type": "markdown",
   "metadata": {},
   "source": [
    "##\tChangement du type de l’attribut salary en float"
   ]
  },
  {
   "cell_type": "markdown",
   "metadata": {},
   "source": [
    "Comme effectuer précedemment, nous allons utiliser la méthode `astype`:"
   ]
  },
  {
   "cell_type": "code",
   "execution_count": 25,
   "metadata": {},
   "outputs": [
    {
     "data": {
      "text/plain": [
       "dtype('float64')"
      ]
     },
     "execution_count": 25,
     "metadata": {},
     "output_type": "execute_result"
    }
   ],
   "source": [
    "df['salary'] = df['salary'].astype(float)\n",
    "df['salary'] .dtype"
   ]
  },
  {
   "cell_type": "markdown",
   "metadata": {},
   "source": [
    "Ayant dans la partie précédente effectué le prétraitement des données en vérifiant leur format et leur contenue, nous allons dans la partie suivante décrire leur contenue. "
   ]
  },
  {
   "cell_type": "markdown",
   "metadata": {},
   "source": [
    "# B- Description du jeu de données"
   ]
  },
  {
   "cell_type": "markdown",
   "metadata": {},
   "source": [
    "Tout d'abord, comptons le nombre de lignes et de colonne de notre tableau de donnée en utilisant la méthode `shape`:"
   ]
  },
  {
   "cell_type": "code",
   "execution_count": 26,
   "metadata": {},
   "outputs": [
    {
     "data": {
      "text/plain": [
       "(24702, 9)"
      ]
     },
     "execution_count": 26,
     "metadata": {},
     "output_type": "execute_result"
    }
   ],
   "source": [
    "df.shape"
   ]
  },
  {
   "cell_type": "markdown",
   "metadata": {},
   "source": [
    "Ensuite, nous allons identifier des principales caractéristiques du jeu de données à partir de la méthode `describe`:"
   ]
  },
  {
   "cell_type": "code",
   "execution_count": 27,
   "metadata": {},
   "outputs": [
    {
     "data": {
      "text/html": [
       "<div>\n",
       "<style scoped>\n",
       "    .dataframe tbody tr th:only-of-type {\n",
       "        vertical-align: middle;\n",
       "    }\n",
       "\n",
       "    .dataframe tbody tr th {\n",
       "        vertical-align: top;\n",
       "    }\n",
       "\n",
       "    .dataframe thead th {\n",
       "        text-align: right;\n",
       "    }\n",
       "</style>\n",
       "<table border=\"1\" class=\"dataframe\">\n",
       "  <thead>\n",
       "    <tr style=\"text-align: right;\">\n",
       "      <th></th>\n",
       "      <th>employee_id</th>\n",
       "      <th>company_id</th>\n",
       "      <th>seniority</th>\n",
       "      <th>salary</th>\n",
       "      <th>duration_jours</th>\n",
       "    </tr>\n",
       "  </thead>\n",
       "  <tbody>\n",
       "    <tr>\n",
       "      <td>count</td>\n",
       "      <td>24702.000000</td>\n",
       "      <td>24702.000000</td>\n",
       "      <td>24702.000000</td>\n",
       "      <td>24702.000000</td>\n",
       "      <td>13510.000000</td>\n",
       "    </tr>\n",
       "    <tr>\n",
       "      <td>mean</td>\n",
       "      <td>501604.403530</td>\n",
       "      <td>3.426969</td>\n",
       "      <td>14.127803</td>\n",
       "      <td>138183.345478</td>\n",
       "      <td>613.486825</td>\n",
       "    </tr>\n",
       "    <tr>\n",
       "      <td>std</td>\n",
       "      <td>288909.026101</td>\n",
       "      <td>2.700011</td>\n",
       "      <td>8.089520</td>\n",
       "      <td>76058.184573</td>\n",
       "      <td>328.622613</td>\n",
       "    </tr>\n",
       "    <tr>\n",
       "      <td>min</td>\n",
       "      <td>36.000000</td>\n",
       "      <td>1.000000</td>\n",
       "      <td>1.000000</td>\n",
       "      <td>17000.000000</td>\n",
       "      <td>102.000000</td>\n",
       "    </tr>\n",
       "    <tr>\n",
       "      <td>25%</td>\n",
       "      <td>250133.750000</td>\n",
       "      <td>1.000000</td>\n",
       "      <td>7.000000</td>\n",
       "      <td>79000.000000</td>\n",
       "      <td>361.000000</td>\n",
       "    </tr>\n",
       "    <tr>\n",
       "      <td>50%</td>\n",
       "      <td>500793.000000</td>\n",
       "      <td>2.000000</td>\n",
       "      <td>14.000000</td>\n",
       "      <td>123000.000000</td>\n",
       "      <td>417.000000</td>\n",
       "    </tr>\n",
       "    <tr>\n",
       "      <td>75%</td>\n",
       "      <td>753137.250000</td>\n",
       "      <td>5.000000</td>\n",
       "      <td>21.000000</td>\n",
       "      <td>187000.000000</td>\n",
       "      <td>781.000000</td>\n",
       "    </tr>\n",
       "    <tr>\n",
       "      <td>max</td>\n",
       "      <td>999969.000000</td>\n",
       "      <td>12.000000</td>\n",
       "      <td>99.000000</td>\n",
       "      <td>408000.000000</td>\n",
       "      <td>1726.000000</td>\n",
       "    </tr>\n",
       "  </tbody>\n",
       "</table>\n",
       "</div>"
      ],
      "text/plain": [
       "         employee_id    company_id     seniority         salary  \\\n",
       "count   24702.000000  24702.000000  24702.000000   24702.000000   \n",
       "mean   501604.403530      3.426969     14.127803  138183.345478   \n",
       "std    288909.026101      2.700011      8.089520   76058.184573   \n",
       "min        36.000000      1.000000      1.000000   17000.000000   \n",
       "25%    250133.750000      1.000000      7.000000   79000.000000   \n",
       "50%    500793.000000      2.000000     14.000000  123000.000000   \n",
       "75%    753137.250000      5.000000     21.000000  187000.000000   \n",
       "max    999969.000000     12.000000     99.000000  408000.000000   \n",
       "\n",
       "       duration_jours  \n",
       "count    13510.000000  \n",
       "mean       613.486825  \n",
       "std        328.622613  \n",
       "min        102.000000  \n",
       "25%        361.000000  \n",
       "50%        417.000000  \n",
       "75%        781.000000  \n",
       "max       1726.000000  "
      ]
     },
     "execution_count": 27,
     "metadata": {},
     "output_type": "execute_result"
    }
   ],
   "source": [
    "df.describe()"
   ]
  },
  {
   "cell_type": "markdown",
   "metadata": {},
   "source": [
    "Nous remarquons que pour la caractéristique:\n",
    "* **count:** Elle est pratiquement égale pour tout les attributs sauf pour *duration_jours étant donnée que quelques valeurs sont manquantes.\n",
    "* **mean:** Le nombre moyenne d'année d'expérience est de 14, le salaire moyen annuel pendant le mandat d'un salarié de l'etreprise est de 138183.345478  et la durée moyenne entre join_date et quit_date de 613.\n",
    "* **std:** Nous remarquons un écart-type sur le nombre d'année d'expérience de 8 ans et sur les salaires de 76058.184573.\n",
    "* **min:** le nombre minimale d'année d'expérience est d'un ans, le salaire annuelle minimale 17000  et la durée minimale entre join_date et quit_date est de 102.\n",
    "* **max:** le nombre maximale d'année d'expérience est de 99, le salaire annuelle maximale est de  408000  et la durée maximale entre join_date et quit_date est de 1726.\n",
    "* **25% - 50% - 75%**: il s'agit des quartiles caractérisant la distributions de nos données (on peut les visualiser plus facilement avec une Boite à moustache *Box-plot*"
   ]
  },
  {
   "cell_type": "markdown",
   "metadata": {},
   "source": [
    "On peut visualiser la distribution des quartiles de nos données plus facilement avec une Boxplot,  on utilise la méthode `boxplot` de pandas:"
   ]
  },
  {
   "cell_type": "code",
   "execution_count": 28,
   "metadata": {},
   "outputs": [
    {
     "data": {
      "text/plain": [
       "<matplotlib.axes._subplots.AxesSubplot at 0x237af489308>"
      ]
     },
     "execution_count": 28,
     "metadata": {},
     "output_type": "execute_result"
    },
    {
     "data": {
      "image/png": "[encoded data removed]",
      "text/plain": [
       "<Figure size 432x288 with 3 Axes>"
      ]
     },
     "metadata": {
      "needs_background": "light"
     },
     "output_type": "display_data"
    }
   ],
   "source": [
    "plt.subplot(1,3,1)\n",
    "df[ ['seniority']].boxplot()\n",
    "\n",
    "plt.subplot(1,3,2)\n",
    "df[['salary']].boxplot()\n",
    "\n",
    "plt.subplot(1,3,3)\n",
    "df[['duration_jours']].boxplot()"
   ]
  },
  {
   "cell_type": "markdown",
   "metadata": {},
   "source": [
    "##  Estimation quotidient des effectifs"
   ]
  },
  {
   "cell_type": "markdown",
   "metadata": {},
   "source": [
    "Dans cette partie, on fait l'hypothèqe que les effectifs commencent à zéro le 23/01/2011. Donc on commence à compter les effectif à cette date.\n",
    "\n",
    "Les gens recrutés dans l'entreprise à partir de cette date sont: *(on affiche les premières lignes)*"
   ]
  },
  {
   "cell_type": "code",
   "execution_count": 29,
   "metadata": {
    "scrolled": true
   },
   "outputs": [
    {
     "data": {
      "text/html": [
       "<div>\n",
       "<style scoped>\n",
       "    .dataframe tbody tr th:only-of-type {\n",
       "        vertical-align: middle;\n",
       "    }\n",
       "\n",
       "    .dataframe tbody tr th {\n",
       "        vertical-align: top;\n",
       "    }\n",
       "\n",
       "    .dataframe thead th {\n",
       "        text-align: right;\n",
       "    }\n",
       "</style>\n",
       "<table border=\"1\" class=\"dataframe\">\n",
       "  <thead>\n",
       "    <tr style=\"text-align: right;\">\n",
       "      <th></th>\n",
       "      <th>employee_id</th>\n",
       "      <th>company_id</th>\n",
       "      <th>dept</th>\n",
       "      <th>seniority</th>\n",
       "      <th>salary</th>\n",
       "      <th>join_date</th>\n",
       "      <th>quit_date</th>\n",
       "      <th>churn</th>\n",
       "      <th>duration_jours</th>\n",
       "    </tr>\n",
       "  </thead>\n",
       "  <tbody>\n",
       "    <tr>\n",
       "      <td>0</td>\n",
       "      <td>13021.0</td>\n",
       "      <td>7</td>\n",
       "      <td>customer_service</td>\n",
       "      <td>28</td>\n",
       "      <td>89000.0</td>\n",
       "      <td>2014-03-24</td>\n",
       "      <td>2014-03-24</td>\n",
       "      <td>yes</td>\n",
       "      <td>585.0</td>\n",
       "    </tr>\n",
       "    <tr>\n",
       "      <td>1</td>\n",
       "      <td>825355.0</td>\n",
       "      <td>7</td>\n",
       "      <td>marketing</td>\n",
       "      <td>20</td>\n",
       "      <td>183000.0</td>\n",
       "      <td>2013-04-29</td>\n",
       "      <td>2013-04-29</td>\n",
       "      <td>yes</td>\n",
       "      <td>340.0</td>\n",
       "    </tr>\n",
       "    <tr>\n",
       "      <td>2</td>\n",
       "      <td>927315.0</td>\n",
       "      <td>4</td>\n",
       "      <td>marketing</td>\n",
       "      <td>14</td>\n",
       "      <td>101000.0</td>\n",
       "      <td>2014-10-13</td>\n",
       "      <td>2014-10-13</td>\n",
       "      <td>No</td>\n",
       "      <td>NaN</td>\n",
       "    </tr>\n",
       "    <tr>\n",
       "      <td>3</td>\n",
       "      <td>662910.0</td>\n",
       "      <td>7</td>\n",
       "      <td>customer_service</td>\n",
       "      <td>20</td>\n",
       "      <td>115000.0</td>\n",
       "      <td>2012-05-14</td>\n",
       "      <td>2012-05-14</td>\n",
       "      <td>yes</td>\n",
       "      <td>389.0</td>\n",
       "    </tr>\n",
       "    <tr>\n",
       "      <td>4</td>\n",
       "      <td>256971.0</td>\n",
       "      <td>2</td>\n",
       "      <td>data_science</td>\n",
       "      <td>23</td>\n",
       "      <td>276000.0</td>\n",
       "      <td>2011-10-17</td>\n",
       "      <td>2011-10-17</td>\n",
       "      <td>yes</td>\n",
       "      <td>1040.0</td>\n",
       "    </tr>\n",
       "  </tbody>\n",
       "</table>\n",
       "</div>"
      ],
      "text/plain": [
       "   employee_id  company_id              dept  seniority    salary  join_date  \\\n",
       "0      13021.0           7  customer_service         28   89000.0 2014-03-24   \n",
       "1     825355.0           7         marketing         20  183000.0 2013-04-29   \n",
       "2     927315.0           4         marketing         14  101000.0 2014-10-13   \n",
       "3     662910.0           7  customer_service         20  115000.0 2012-05-14   \n",
       "4     256971.0           2      data_science         23  276000.0 2011-10-17   \n",
       "\n",
       "   quit_date churn  duration_jours  \n",
       "0 2014-03-24   yes           585.0  \n",
       "1 2013-04-29   yes           340.0  \n",
       "2 2014-10-13    No             NaN  \n",
       "3 2012-05-14   yes           389.0  \n",
       "4 2011-10-17   yes          1040.0  "
      ]
     },
     "execution_count": 29,
     "metadata": {},
     "output_type": "execute_result"
    }
   ],
   "source": [
    "df1=df.loc[ (df['join_date'] >= \"2011-01-23\") & (df['join_date'] <= \"2015-12-13\") ]\n",
    "#On affiche les premières lignes\n",
    "df1.head()"
   ]
  },
  {
   "cell_type": "markdown",
   "metadata": {},
   "source": [
    "Evidemment parmis ces gens, on a ceux qui sont restés dans l'entreprise après la date du 13/12/2015 et ceux qui sont partis avant. Ce qui nous interesse nous, c'est l'effectif quotident entre ces deux dates"
   ]
  },
  {
   "cell_type": "markdown",
   "metadata": {},
   "source": [
    "Nous allons créer un tableau de la forme (company_id, join_date, count_employee) contenant pour chaque date l'effectif des employés dans l'entreprise"
   ]
  },
  {
   "cell_type": "code",
   "execution_count": 30,
   "metadata": {},
   "outputs": [
    {
     "name": "stderr",
     "output_type": "stream",
     "text": [
      "C:\\Users\\jebba\\Anaconda3\\lib\\site-packages\\pandas\\core\\indexing.py:376: SettingWithCopyWarning: \n",
      "A value is trying to be set on a copy of a slice from a DataFrame.\n",
      "Try using .loc[row_indexer,col_indexer] = value instead\n",
      "\n",
      "See the caveats in the documentation: http://pandas.pydata.org/pandas-docs/stable/user_guide/indexing.html#returning-a-view-versus-a-copy\n",
      "  self.obj[key] = _infer_fill_value(value)\n",
      "C:\\Users\\jebba\\Anaconda3\\lib\\site-packages\\pandas\\core\\indexing.py:494: SettingWithCopyWarning: \n",
      "A value is trying to be set on a copy of a slice from a DataFrame.\n",
      "Try using .loc[row_indexer,col_indexer] = value instead\n",
      "\n",
      "See the caveats in the documentation: http://pandas.pydata.org/pandas-docs/stable/user_guide/indexing.html#returning-a-view-versus-a-copy\n",
      "  self.obj[item] = s\n"
     ]
    },
    {
     "data": {
      "text/html": [
       "<div>\n",
       "<style scoped>\n",
       "    .dataframe tbody tr th:only-of-type {\n",
       "        vertical-align: middle;\n",
       "    }\n",
       "\n",
       "    .dataframe tbody tr th {\n",
       "        vertical-align: top;\n",
       "    }\n",
       "\n",
       "    .dataframe thead th {\n",
       "        text-align: right;\n",
       "    }\n",
       "</style>\n",
       "<table border=\"1\" class=\"dataframe\">\n",
       "  <thead>\n",
       "    <tr style=\"text-align: right;\">\n",
       "      <th></th>\n",
       "      <th>join_date</th>\n",
       "      <th>company_id</th>\n",
       "      <th>new_hire</th>\n",
       "    </tr>\n",
       "  </thead>\n",
       "  <tbody>\n",
       "    <tr>\n",
       "      <td>0</td>\n",
       "      <td>2014-03-24</td>\n",
       "      <td>7</td>\n",
       "      <td>NaN</td>\n",
       "    </tr>\n",
       "    <tr>\n",
       "      <td>1</td>\n",
       "      <td>2013-04-29</td>\n",
       "      <td>7</td>\n",
       "      <td>NaN</td>\n",
       "    </tr>\n",
       "    <tr>\n",
       "      <td>2</td>\n",
       "      <td>2014-10-13</td>\n",
       "      <td>4</td>\n",
       "      <td>NaN</td>\n",
       "    </tr>\n",
       "    <tr>\n",
       "      <td>3</td>\n",
       "      <td>2012-05-14</td>\n",
       "      <td>7</td>\n",
       "      <td>NaN</td>\n",
       "    </tr>\n",
       "    <tr>\n",
       "      <td>4</td>\n",
       "      <td>2011-10-17</td>\n",
       "      <td>2</td>\n",
       "      <td>NaN</td>\n",
       "    </tr>\n",
       "  </tbody>\n",
       "</table>\n",
       "</div>"
      ],
      "text/plain": [
       "   join_date  company_id  new_hire\n",
       "0 2014-03-24           7       NaN\n",
       "1 2013-04-29           7       NaN\n",
       "2 2014-10-13           4       NaN\n",
       "3 2012-05-14           7       NaN\n",
       "4 2011-10-17           2       NaN"
      ]
     },
     "execution_count": 30,
     "metadata": {},
     "output_type": "execute_result"
    }
   ],
   "source": [
    "import numpy as np\n",
    "df3=df1[['join_date','company_id']]#création d'un tableau qui contient les 3 colonnes du tableau précédant\n",
    "df3.loc[:,'new_hire'] =np.nan#ajout de la colonne count_employee\n",
    "df3.head()"
   ]
  },
  {
   "cell_type": "markdown",
   "metadata": {},
   "source": [
    "Cela fait, il suffit de raisonné sur `join_date`et `compani_id`.\n",
    "\n",
    "Avec l'algorithme suivant\n",
    "\n",
    "````\n",
    "Pour  ligne dans df3 faire:\n",
    "    ligne_date = ligne[join_date]\n",
    "    ligne_id = ligne[company_id]\n",
    "    new_hire = Nombre d'employé de l'entrepride ligne_id employés avant la date ligne_date\n",
    "````"
   ]
  },
  {
   "cell_type": "markdown",
   "metadata": {},
   "source": [
    "Sur python en utilisant pandas, on a ce code:"
   ]
  },
  {
   "cell_type": "code",
   "execution_count": 31,
   "metadata": {
    "scrolled": true
   },
   "outputs": [
    {
     "data": {
      "text/html": [
       "<div>\n",
       "<style scoped>\n",
       "    .dataframe tbody tr th:only-of-type {\n",
       "        vertical-align: middle;\n",
       "    }\n",
       "\n",
       "    .dataframe tbody tr th {\n",
       "        vertical-align: top;\n",
       "    }\n",
       "\n",
       "    .dataframe thead th {\n",
       "        text-align: right;\n",
       "    }\n",
       "</style>\n",
       "<table border=\"1\" class=\"dataframe\">\n",
       "  <thead>\n",
       "    <tr style=\"text-align: right;\">\n",
       "      <th></th>\n",
       "      <th>join_date</th>\n",
       "      <th>company_id</th>\n",
       "      <th>new_hire</th>\n",
       "    </tr>\n",
       "  </thead>\n",
       "  <tbody>\n",
       "    <tr>\n",
       "      <td>0</td>\n",
       "      <td>2014-03-24</td>\n",
       "      <td>7</td>\n",
       "      <td>828.0</td>\n",
       "    </tr>\n",
       "    <tr>\n",
       "      <td>1</td>\n",
       "      <td>2013-04-29</td>\n",
       "      <td>7</td>\n",
       "      <td>592.0</td>\n",
       "    </tr>\n",
       "    <tr>\n",
       "      <td>2</td>\n",
       "      <td>2014-10-13</td>\n",
       "      <td>4</td>\n",
       "      <td>1596.0</td>\n",
       "    </tr>\n",
       "    <tr>\n",
       "      <td>3</td>\n",
       "      <td>2012-05-14</td>\n",
       "      <td>7</td>\n",
       "      <td>331.0</td>\n",
       "    </tr>\n",
       "    <tr>\n",
       "      <td>4</td>\n",
       "      <td>2011-10-17</td>\n",
       "      <td>2</td>\n",
       "      <td>615.0</td>\n",
       "    </tr>\n",
       "  </tbody>\n",
       "</table>\n",
       "</div>"
      ],
      "text/plain": [
       "   join_date  company_id  new_hire\n",
       "0 2014-03-24           7     828.0\n",
       "1 2013-04-29           7     592.0\n",
       "2 2014-10-13           4    1596.0\n",
       "3 2012-05-14           7     331.0\n",
       "4 2011-10-17           2     615.0"
      ]
     },
     "execution_count": 31,
     "metadata": {},
     "output_type": "execute_result"
    }
   ],
   "source": [
    "for idx_ligne in range(df3.shape[0]):#parcours des lignes du dataframe\n",
    "    count_employee = df3[( df3['join_date'] <= df3.loc[idx_ligne,'join_date'] ) & ( df3['company_id'] == df3.loc[idx_ligne,'company_id'] )].shape[0]\n",
    "    #df3['join_date'] <= df3.loc[idx_ligne,'join_date'] : on prend tous les enregistremets dont join_date est antérieur à celle de la ligne courante\n",
    "    #df3['company_id'] == df3.loc[idx_ligne,'company_id'] et qui travaillent dans la même entreprise \n",
    "    df3.loc[idx_ligne,'new_hire'] = count_employee #on pose la valeur calculée dans la colonne crée \n",
    "#On affiche les premières lignes\n",
    "df3.head()"
   ]
  },
  {
   "cell_type": "markdown",
   "metadata": {},
   "source": [
    "### Remarque:\n",
    "On aurait pu générer un tableau ou il y a toutes les dates jour par jour au lieu de générer un tableau basé sur les dates existantes. Ce choix a été faits pour des questions d'optimisation de temps de calcul et simplicité d'implémentation"
   ]
  },
  {
   "cell_type": "markdown",
   "metadata": {},
   "source": [
    "On pourrait obsever nos résultats à travers les courbes:"
   ]
  },
  {
   "cell_type": "code",
   "execution_count": 32,
   "metadata": {},
   "outputs": [
    {
     "name": "stderr",
     "output_type": "stream",
     "text": [
      "C:\\Users\\jebba\\Anaconda3\\lib\\site-packages\\ipykernel_launcher.py:4: UserWarning: Boolean Series key will be reindexed to match DataFrame index.\n",
      "  after removing the cwd from sys.path.\n",
      "C:\\Users\\jebba\\Anaconda3\\lib\\site-packages\\ipykernel_launcher.py:5: UserWarning: Boolean Series key will be reindexed to match DataFrame index.\n",
      "  \"\"\"\n"
     ]
    },
    {
     "data": {
      "image/png": "[encoded data removed]",
      "text/plain": [
       "<Figure size 432x288 with 12 Axes>"
      ]
     },
     "metadata": {
      "needs_background": "light"
     },
     "output_type": "display_data"
    }
   ],
   "source": [
    "for i in range(1,12+1):\n",
    "        plt.subplot(6,2,i)\n",
    "        plt.title( str(i))\n",
    "        effectif = df3.sort_values(by='join_date')[ df3['company_id'] == i]['new_hire'].values\n",
    "        dates = df3.sort_values(by='join_date')[ df3['company_id'] == i]['join_date'].values\n",
    "        plt.plot(dates,effectif,'.')"
   ]
  },
  {
   "cell_type": "markdown",
   "metadata": {},
   "source": [
    "## Nombre de nouveaux employé quotidient dans chaque entreprise"
   ]
  },
  {
   "cell_type": "markdown",
   "metadata": {},
   "source": [
    "Dans cette partie, nous allons calculer le nombre de nouveaux employés chaque jour pour chaque entreprise. \n",
    "\n",
    "Notre tableau aura pour colonne: (company_id, join_date, count_new_hire).\n",
    "\n",
    "Procédons à sa création:"
   ]
  },
  {
   "cell_type": "code",
   "execution_count": 35,
   "metadata": {
    "scrolled": true
   },
   "outputs": [
    {
     "data": {
      "text/html": [
       "<div>\n",
       "<style scoped>\n",
       "    .dataframe tbody tr th:only-of-type {\n",
       "        vertical-align: middle;\n",
       "    }\n",
       "\n",
       "    .dataframe tbody tr th {\n",
       "        vertical-align: top;\n",
       "    }\n",
       "\n",
       "    .dataframe thead th {\n",
       "        text-align: right;\n",
       "    }\n",
       "</style>\n",
       "<table border=\"1\" class=\"dataframe\">\n",
       "  <thead>\n",
       "    <tr style=\"text-align: right;\">\n",
       "      <th></th>\n",
       "      <th>index</th>\n",
       "      <th>join_date</th>\n",
       "      <th>company_id</th>\n",
       "      <th>count_new_hire</th>\n",
       "    </tr>\n",
       "  </thead>\n",
       "  <tbody>\n",
       "    <tr>\n",
       "      <td>0</td>\n",
       "      <td>0</td>\n",
       "      <td>2014-03-24</td>\n",
       "      <td>7</td>\n",
       "      <td>NaN</td>\n",
       "    </tr>\n",
       "    <tr>\n",
       "      <td>1</td>\n",
       "      <td>1</td>\n",
       "      <td>2013-04-29</td>\n",
       "      <td>7</td>\n",
       "      <td>NaN</td>\n",
       "    </tr>\n",
       "    <tr>\n",
       "      <td>2</td>\n",
       "      <td>2</td>\n",
       "      <td>2014-10-13</td>\n",
       "      <td>4</td>\n",
       "      <td>NaN</td>\n",
       "    </tr>\n",
       "    <tr>\n",
       "      <td>3</td>\n",
       "      <td>3</td>\n",
       "      <td>2012-05-14</td>\n",
       "      <td>7</td>\n",
       "      <td>NaN</td>\n",
       "    </tr>\n",
       "    <tr>\n",
       "      <td>4</td>\n",
       "      <td>4</td>\n",
       "      <td>2011-10-17</td>\n",
       "      <td>2</td>\n",
       "      <td>NaN</td>\n",
       "    </tr>\n",
       "  </tbody>\n",
       "</table>\n",
       "</div>"
      ],
      "text/plain": [
       "   index  join_date  company_id  count_new_hire\n",
       "0      0 2014-03-24           7             NaN\n",
       "1      1 2013-04-29           7             NaN\n",
       "2      2 2014-10-13           4             NaN\n",
       "3      3 2012-05-14           7             NaN\n",
       "4      4 2011-10-17           2             NaN"
      ]
     },
     "execution_count": 35,
     "metadata": {},
     "output_type": "execute_result"
    }
   ],
   "source": [
    "#création d'un tableau qui contient les 3 colonnes du tableau précédant\n",
    "df4=df1[['join_date','company_id']]\n",
    "#ajout de la colonne count_new_hire\n",
    "df4.loc[:,'count_new_hire'] = np.nan\n",
    "\n",
    "# je reprend ici l'indexation des lignes du tableau (ca ne change rien à son contenue)\n",
    "df4=df4.reset_index() \n",
    "\n",
    "#Affichons les premières lignes\n",
    "df4.head()"
   ]
  },
  {
   "cell_type": "markdown",
   "metadata": {},
   "source": [
    "Cela fait, il suffit de raisonné sur `join_date`et `compani_id`.\n",
    "\n",
    "Avec l'algorithme suivant\n",
    "\n",
    "````\n",
    "Pour  ligne dans df4 faire:\n",
    "    ligne_date = ligne[join_date]\n",
    "    ligne_id = ligne[company_id]\n",
    "    count_new_hire = Nombre d'employé de l'entrepride ligne_id employés avant à la date ligne_date\n",
    "````"
   ]
  },
  {
   "cell_type": "markdown",
   "metadata": {},
   "source": [
    "Sur python avec la bibliothèque pandas, on obtient le résutat suivant:"
   ]
  },
  {
   "cell_type": "code",
   "execution_count": 36,
   "metadata": {},
   "outputs": [
    {
     "data": {
      "text/html": [
       "<div>\n",
       "<style scoped>\n",
       "    .dataframe tbody tr th:only-of-type {\n",
       "        vertical-align: middle;\n",
       "    }\n",
       "\n",
       "    .dataframe tbody tr th {\n",
       "        vertical-align: top;\n",
       "    }\n",
       "\n",
       "    .dataframe thead th {\n",
       "        text-align: right;\n",
       "    }\n",
       "</style>\n",
       "<table border=\"1\" class=\"dataframe\">\n",
       "  <thead>\n",
       "    <tr style=\"text-align: right;\">\n",
       "      <th></th>\n",
       "      <th>index</th>\n",
       "      <th>join_date</th>\n",
       "      <th>company_id</th>\n",
       "      <th>count_new_hire</th>\n",
       "    </tr>\n",
       "  </thead>\n",
       "  <tbody>\n",
       "    <tr>\n",
       "      <td>0</td>\n",
       "      <td>0</td>\n",
       "      <td>2014-03-24</td>\n",
       "      <td>7</td>\n",
       "      <td>9.0</td>\n",
       "    </tr>\n",
       "    <tr>\n",
       "      <td>1</td>\n",
       "      <td>1</td>\n",
       "      <td>2013-04-29</td>\n",
       "      <td>7</td>\n",
       "      <td>5.0</td>\n",
       "    </tr>\n",
       "    <tr>\n",
       "      <td>2</td>\n",
       "      <td>2</td>\n",
       "      <td>2014-10-13</td>\n",
       "      <td>4</td>\n",
       "      <td>14.0</td>\n",
       "    </tr>\n",
       "    <tr>\n",
       "      <td>3</td>\n",
       "      <td>3</td>\n",
       "      <td>2012-05-14</td>\n",
       "      <td>7</td>\n",
       "      <td>5.0</td>\n",
       "    </tr>\n",
       "    <tr>\n",
       "      <td>4</td>\n",
       "      <td>4</td>\n",
       "      <td>2011-10-17</td>\n",
       "      <td>2</td>\n",
       "      <td>15.0</td>\n",
       "    </tr>\n",
       "  </tbody>\n",
       "</table>\n",
       "</div>"
      ],
      "text/plain": [
       "   index  join_date  company_id  count_new_hire\n",
       "0      0 2014-03-24           7             9.0\n",
       "1      1 2013-04-29           7             5.0\n",
       "2      2 2014-10-13           4            14.0\n",
       "3      3 2012-05-14           7             5.0\n",
       "4      4 2011-10-17           2            15.0"
      ]
     },
     "execution_count": 36,
     "metadata": {},
     "output_type": "execute_result"
    }
   ],
   "source": [
    "for idx_ligne in range(df4.shape[0]):#parcours des lignes du dataframe\n",
    "    count_new_hire = df4[( df4['join_date'] == df4.loc[idx_ligne,'join_date'] ) & ( df4['company_id'] == df4.loc[idx_ligne,'company_id'] )].shape[0]\n",
    "    #df4['join_date'] == df4.loc[idx_ligne,'join_date'] : on prend tous les enregistremets des gents qui se sont recrutés la même journée\n",
    "    #df4['company_id'] == df4.loc[idx_ligne,'company_id'] et qui travaillent dans la même entreprise \n",
    "    df4.loc[idx_ligne,'count_new_hire'] = count_new_hire #on pose la valeur calculée dans la colonne crée \n",
    "#On affiche les premières lignes\n",
    "df4.head()"
   ]
  },
  {
   "cell_type": "markdown",
   "metadata": {},
   "source": [
    "### Remarque:\n",
    "On aurait pu générer un tableau ou il y a toutes les dates jour par jour au lieu de générer un tableau basé sur les dates existantes. Ce choix a été faits pour des questions d'optimisation de temps de calcul et simplicité d'implémentation"
   ]
  },
  {
   "cell_type": "markdown",
   "metadata": {},
   "source": [
    "On pourrait observer nos résultats à travers les courbes"
   ]
  },
  {
   "cell_type": "code",
   "execution_count": 37,
   "metadata": {},
   "outputs": [
    {
     "name": "stderr",
     "output_type": "stream",
     "text": [
      "C:\\Users\\jebba\\Anaconda3\\lib\\site-packages\\ipykernel_launcher.py:4: UserWarning: Boolean Series key will be reindexed to match DataFrame index.\n",
      "  after removing the cwd from sys.path.\n",
      "C:\\Users\\jebba\\Anaconda3\\lib\\site-packages\\ipykernel_launcher.py:5: UserWarning: Boolean Series key will be reindexed to match DataFrame index.\n",
      "  \"\"\"\n"
     ]
    },
    {
     "data": {
      "image/png": "[encoded data removed]",
      "text/plain": [
       "<Figure size 432x288 with 12 Axes>"
      ]
     },
     "metadata": {
      "needs_background": "light"
     },
     "output_type": "display_data"
    }
   ],
   "source": [
    "for i in range(1,12+1):\n",
    "        plt.subplot(6,2,i)\n",
    "        plt.title( str(i))\n",
    "        effectif = df4.sort_values(by='join_date')[ df4['company_id'] == i]['count_new_hire'].values\n",
    "        dates = df4.sort_values(by='join_date')[ df4['company_id'] == i]['join_date'].values\n",
    "        plt.plot(dates,effectif)"
   ]
  },
  {
   "cell_type": "markdown",
   "metadata": {},
   "source": [
    "Visuellement, on remarque bien que l'entreprise 11 et 12 ont moins de recrutements. Ce qui difficilement observable sur un tableau. L'entreprise numéro 12 apparemment recrute plus sur une période bien précise"
   ]
  },
  {
   "cell_type": "markdown",
   "metadata": {},
   "source": [
    "## Le nombre d'employé ayant quitté l'entreprise chaque jour"
   ]
  },
  {
   "cell_type": "markdown",
   "metadata": {},
   "source": [
    "En procédant de la même manière que le cas précédent. on obtient les résultats:"
   ]
  },
  {
   "cell_type": "code",
   "execution_count": 39,
   "metadata": {},
   "outputs": [],
   "source": [
    "df5=df1[['quit_date','company_id']]#création d'un tableau qui contient les 3 colonnes du tableau précédant\n",
    "df5.loc[:,'count_churn'] =np.nan#ajout de la colonne coun_churn\n",
    "df5=df5.reset_index()"
   ]
  },
  {
   "cell_type": "code",
   "execution_count": null,
   "metadata": {},
   "outputs": [],
   "source": [
    " for idx_ligne in range(df5.shape[0]):#parcours des lignes du dataframe\n",
    "    count_churn = df5[( df1['churn'] == 'No' ) & ( df5['quit_date'] == df5.loc[idx_ligne,'quit_date'] ) & ( df5['company_id'] == df5.loc[idx_ligne,'company_id'] )].shape[0]\n",
    "    #df5['company_id'] == df3.loc[idx_ligne,'company_id'] et qui travaillent dans la même entreprise \n",
    "    df5.loc[idx_ligne,'count_churn'] = count_churn #on pose la valeur calculée dans la colonne crée \n",
    "df5.head()"
   ]
  },
  {
   "cell_type": "markdown",
   "metadata": {},
   "source": [
    "### Remarque:\n",
    "On aurait pu générer un tableau ou il y a toutes les dates jour par jour au lieu de générer un tableau basé sur les dates existantes. Ce choix a été faits pour des questions d'optimisation de temps de calcul et simplicité d'implémentation"
   ]
  },
  {
   "cell_type": "code",
   "execution_count": null,
   "metadata": {
    "scrolled": true
   },
   "outputs": [],
   "source": [
    "for i in range(1,12+1):\n",
    "        plt.subplot(6,2,i)\n",
    "        plt.title( str(i))\n",
    "        effectif = df5.sort_values(by='quit_date')[ df5['company_id'] == i]['count_churn'].values\n",
    "        dates = df5.sort_values(by='quit_date')[ df5['company_id'] == i]['quit_date'].values\n",
    "        plt.plot(dates,effectif)"
   ]
  },
  {
   "cell_type": "markdown",
   "metadata": {},
   "source": [
    "## Distribution de Churn Salary\n",
    "Pour observer la distributions des salaires et de churn nous allons utiliser des boxplots toutes entreprises confondus:"
   ]
  },
  {
   "cell_type": "code",
   "execution_count": null,
   "metadata": {
    "scrolled": false
   },
   "outputs": [],
   "source": [
    "df1.plot.box(x='churn',y='salary')"
   ]
  },
  {
   "cell_type": "markdown",
   "metadata": {},
   "source": [
    "## Classification"
   ]
  },
  {
   "cell_type": "markdown",
   "metadata": {},
   "source": [
    "### Classification binaire supervisé selon l'attribut Churn avec  un arbre de décision "
   ]
  },
  {
   "cell_type": "markdown",
   "metadata": {},
   "source": [
    "Dans cette partie, nous allons entamer la création  d'un arbre de décision pour classifier les contributeurs selon **churn** (Yes ou No) avec comme attributs d’entrés **seniority**, **salary**.\n",
    "\n",
    "Pour cela, nous allons utiliser la bibliothèque `sklearn` de python.\n",
    "Commençons par les importer:"
   ]
  },
  {
   "cell_type": "code",
   "execution_count": null,
   "metadata": {},
   "outputs": [],
   "source": [
    "from pandas.plotting import scatter_matrix # pandas.tools.plotting deprecated\n",
    "from sklearn import model_selection ## randomly split daa into training and test sets"
   ]
  },
  {
   "cell_type": "markdown",
   "metadata": {},
   "source": [
    "#### Création du training set et test set\n",
    "On crée le training set et le test set à partir des données de nos tableaux. On choisis d'utiliser 80% de nos données pour l'entrainement et 20% pour le test :"
   ]
  },
  {
   "cell_type": "code",
   "execution_count": null,
   "metadata": {},
   "outputs": [],
   "source": [
    "columns_training =['seniority', 'salary']\n",
    "columns_test=['churn']\n",
    "\n",
    "X = df1[columns_training].values\n",
    "Y= df1[columns_test].values\n",
    "\n",
    "seed = 7\n",
    "#training, test datset \n",
    "df_values = df1.values # puts all of the rows into array format;\n",
    "# les attributs d’entrés sont seniority, salary\n",
    "# notre attribut de classification est churn\n",
    "validation_size = 0.20 # 80% training data, 20% test data\n",
    "# randomly split daa into training and test sets\n",
    "X_train, X_validation, Y_train, Y_validation = model_selection.train_test_split(X, Y, test_size= validation_size, random_state=seed) "
   ]
  },
  {
   "cell_type": "markdown",
   "metadata": {},
   "source": [
    "Le couple de variable: \n",
    "* **(X_train,Y_train)**: servira à l'apprentissage supervisé de notre modèle d'apprentissage.\n",
    "* **(X_validation,Y_validation)**: servira à évaluer les performances de notre modèle d'apprentissage.\n",
    "\n",
    "Créons alors notre modèle à entrainer:"
   ]
  },
  {
   "cell_type": "markdown",
   "metadata": {},
   "source": [
    "Visualisons d'abord nos données à classifier.\n",
    "\n",
    "Nous visualiserons seulement 1000 points pour avoir une idée"
   ]
  },
  {
   "cell_type": "code",
   "execution_count": null,
   "metadata": {
    "scrolled": true
   },
   "outputs": [],
   "source": [
    "for i in range(1000):\n",
    "    if Y[i] == 'yes':\n",
    "        plt.plot(X[i][0],X[i][1],'+', color='b')\n",
    "    if Y[i] == 'No':\n",
    "        plt.plot(X[i][0],X[i][1],'*', color='r')\n",
    "#On labelise nos axes\n",
    "plt.xlabel('seniority')\n",
    "plt.ylabel('salary')"
   ]
  },
  {
   "cell_type": "markdown",
   "metadata": {},
   "source": [
    "Il semble visuellement  compliquer de trouver une règle  pour classifier ces données.\n",
    "\n",
    "Cela dit, nous allons commencer la création de notre arbre de décision:"
   ]
  },
  {
   "cell_type": "code",
   "execution_count": null,
   "metadata": {},
   "outputs": [],
   "source": [
    "from sklearn.tree import DecisionTreeClassifier\n",
    "# Create decision tree classifer object\n",
    "clf=DecisionTreeClassifier()"
   ]
  },
  {
   "cell_type": "markdown",
   "metadata": {},
   "source": [
    "Notre modèle créer, il va falloir l'entrainer à partir des données d'entrainement: **(X_train,Y_train)**"
   ]
  },
  {
   "cell_type": "code",
   "execution_count": null,
   "metadata": {
    "scrolled": true
   },
   "outputs": [],
   "source": [
    "# Entrainement supervisé de notre modèle\n",
    "model=clf.fit(X_train, Y_train)\n",
    "#affichage du contenue de notre modèle\n",
    "model"
   ]
  },
  {
   "cell_type": "markdown",
   "metadata": {},
   "source": [
    "Notre modèle créé et entrainé, nous devons maintenant évaluer ses performances à partir des données de tests: **(X_validation,Y_validation)**.\n",
    "\n",
    "Pour cela nous allons utiliser la matrice de confusion de notre modèle. Elle représente:\n",
    "\n",
    "Vrai Positif | Faux Positif\n",
    ":---: | :---: \n",
    "Faux Positif | Faux Négatif\n",
    "\n",
    "Tout d'abord, effectuons une prediction des résultats de nos données de tests:"
   ]
  },
  {
   "cell_type": "code",
   "execution_count": null,
   "metadata": {},
   "outputs": [],
   "source": [
    "y_pred = model.predict(X_validation)"
   ]
  },
  {
   "cell_type": "markdown",
   "metadata": {},
   "source": [
    "Celà fait, comparons avec les données de références: **Y_validation** à partir de la matrice de confusion"
   ]
  },
  {
   "cell_type": "code",
   "execution_count": null,
   "metadata": {
    "scrolled": false
   },
   "outputs": [],
   "source": [
    "from sklearn.metrics import confusion_matrix\n",
    "from sklearn.metrics import accuracy_score\n",
    "#Evaluating predictions\n",
    "#Building confusion matrix:\n",
    "cm = confusion_matrix(Y_validation, y_pred)\n",
    "cm"
   ]
  },
  {
   "cell_type": "markdown",
   "metadata": {},
   "source": [
    "En terme de poucentage:"
   ]
  },
  {
   "cell_type": "code",
   "execution_count": null,
   "metadata": {},
   "outputs": [],
   "source": [
    "cm / cm.sum() * 100"
   ]
  },
  {
   "cell_type": "markdown",
   "metadata": {},
   "source": [
    "Nous obtenons en terme de pourcentage (en arrondi) les résultats:\n",
    "    \n",
    "22.75% | 21.92%\n",
    ":---: | :---: \n",
    "27.02% | 28.31%\n",
    "\n",
    "Notre modèle n'est pas parfait, mais peut être perfectible en ajustant correctement ses paramètres.\n"
   ]
  },
  {
   "cell_type": "markdown",
   "metadata": {},
   "source": [
    "Nous pouvons aussi avoir un rapport de classification avec ma conftion `classification_report` de sklearn.metrics.\n",
    "Dans ce rapport nous aurons le score de classification pour différentes métrics:"
   ]
  },
  {
   "cell_type": "code",
   "execution_count": null,
   "metadata": {
    "scrolled": true
   },
   "outputs": [],
   "source": [
    "from sklearn.metrics import classification_report\n",
    "print(classification_report(Y_validation, y_pred))"
   ]
  },
  {
   "cell_type": "markdown",
   "metadata": {},
   "source": [
    "Pour visualiser notre arbre de décision, utilisons la méthode plot_tree qui prend en paramètre notre modèle."
   ]
  },
  {
   "cell_type": "code",
   "execution_count": null,
   "metadata": {},
   "outputs": [],
   "source": [
    "import sklearn\n",
    "sklearn.tree.plot_tree(model) "
   ]
  },
  {
   "cell_type": "markdown",
   "metadata": {},
   "source": [
    "### Classification binaire supervisée de churn en à partir d'un modèle KNN"
   ]
  },
  {
   "cell_type": "markdown",
   "metadata": {},
   "source": [
    "Dans cette partie, de la même manière que la partie précédente, nous alllons entrainer un modèle **KNN** pour une classification binaire de l'attribut *Churn* à partir des données *Salary* et *Seniority*\n",
    "\n",
    "Commençons par créer et entrainer un modèle **KNN**"
   ]
  },
  {
   "cell_type": "code",
   "execution_count": null,
   "metadata": {},
   "outputs": [],
   "source": [
    "from sklearn.neighbors import KNeighborsClassifier\n",
    "clf_knn = KNeighborsClassifier(n_neighbors=3)"
   ]
  },
  {
   "cell_type": "markdown",
   "metadata": {},
   "source": [
    "A partir des même données d'entrainements et tests de la partie précédente, nous allons entrainer notre modèle."
   ]
  },
  {
   "cell_type": "code",
   "execution_count": null,
   "metadata": {},
   "outputs": [],
   "source": [
    "clf_knn.fit(X_train, Y_train)"
   ]
  },
  {
   "cell_type": "markdown",
   "metadata": {},
   "source": [
    "Celà fait, on fait maintenant une prediction sur les données de test afind 'évaluer notre modèle:"
   ]
  },
  {
   "cell_type": "code",
   "execution_count": null,
   "metadata": {},
   "outputs": [],
   "source": [
    "y_pred_knn = clf_knns.predict(X_validation)"
   ]
  },
  {
   "cell_type": "markdown",
   "metadata": {},
   "source": [
    "Celà fait, comparons avec les données de références: **Y_validation** à partir de la matrice de confusion"
   ]
  },
  {
   "cell_type": "code",
   "execution_count": null,
   "metadata": {},
   "outputs": [],
   "source": [
    "cm_knn = confusion_matrix(Y_validation, y_pred_knn)\n",
    "cm_knn"
   ]
  },
  {
   "cell_type": "markdown",
   "metadata": {},
   "source": [
    "Nous obtenons en terme de pourcentage (en arrondi) les résultats:\n",
    "    \n",
    "XX% | XX%\n",
    ":---: | :---: \n",
    "XX% | XX%\n",
    "\n",
    "Notre modèle n'est pas parfait, mais peut être perfectible en ajustant correctement ses paramètres.\n"
   ]
  },
  {
   "cell_type": "markdown",
   "metadata": {},
   "source": [
    "Comme fait dans la partie précédente, affichons le score de classification pour différentes métriques"
   ]
  },
  {
   "cell_type": "code",
   "execution_count": null,
   "metadata": {},
   "outputs": [],
   "source": [
    "print(classification_report(Y_validation, y_pred_knn)) "
   ]
  }
 ],
 "metadata": {
  "kernelspec": {
   "display_name": "Python 3",
   "language": "python",
   "name": "python3"
  }
 },
 "nbformat": 4,
 "nbformat_minor": 2
}
